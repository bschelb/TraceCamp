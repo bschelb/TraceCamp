{
 "cells": [
  {
   "cell_type": "code",
   "execution_count": null,
   "metadata": {},
   "outputs": [],
   "source": [
    "Create an horoscope list\n",
    "Create list of 3 horoscopes\n",
    "Set up user input asking for birthday\n",
    "Create function to return zodiac sign by number using if statements\n",
    "Pass zodiac sign to function that randomly picks horoscope\n",
    "Return zodiac sign along with horoscope\n",
    "Stretch Goals\n",
    "Stretch One: Add method to add and delete horoscopes\n",
    "Stretch Two: Add in checks for all the user input. If incorrect user input either give the option to reenter the input or end program\n",
    "\n",
    "\n",
    "Stretch Goals\n",
    "\n",
    "Stretch One:\n",
    "Create list of where even or odd is printed depending on number 1-10\n",
    "Stretch Two:\n",
    "Create list of prime numbers through 1-25"
   ]
  },
  {
   "cell_type": "code",
   "execution_count": 61,
   "metadata": {},
   "outputs": [
    {
     "name": "stdout",
     "output_type": "stream",
     "text": [
      "Enter your birthday in this format MM/DD: 11/28\n",
      "Your horoscope is as follows: Watch for stickers, while your zodiac sign is Sagittarius\n"
     ]
    }
   ],
   "source": [
    "from datetime import datetime\n",
    "import random\n",
    "horoscope = [\"Prepare for an unexpected trip\", \"Be careful around water the next 3 days\", \"Watch out for birds this week\", \"Watch for cups\", \"Watch for the stars\", \"Watch for the phones\", \"Watch for stickers\", \"Watch for paper\", \"Watch for keys\", \"Watch for chairs\", \"Watch for cords\", \"Watch for tables\"]\n",
    "birthday = input(\"Enter your birthday in this format MM/DD: \")\n",
    "birthday_split = birthday.split(\"/\")\n",
    "birthday_month = int(birthday_split[0])\n",
    "birthday_day = int(birthday_split[1])\n",
    "def sign():\n",
    "    if (birthday_month == 3 and birthday_day in range(21, 32)) or (birthday_month == 4 and birthday_day in range(1,20)):\n",
    "        return \"Aries\"\n",
    "    elif (birthday_month == 4 and birthday_day in range(20,31)) or (birthday_month == 5 and birthday_day in range(1,21)):\n",
    "        return \"Taurus\"\n",
    "    elif (birthday_month == 5 and birthday_day in range(21,32)) or (birthday_month == 6 and birthday_day in range(1, 21)):\n",
    "        return \"Gemini\"\n",
    "    elif (birthday_month == 6 and birthday_day in range(21,31)) or (birthday_month == 7 and birthday_day in range(1,23)):\n",
    "        return \"Cancer\"\n",
    "    elif (birthday_month == 7 and birthday_day in range(21,32)) or (birthday_month == 8 and birthday_day in range(1,23)):\n",
    "        return \"Leo\"\n",
    "    elif (birthday_month == 8 and birthday_day in range(23,32)) or (birthday_month == 9 and birthday_day in range(1,23)):\n",
    "        return \"Virgo\"\n",
    "    elif (birthday_month == 9 and birthday_day in range(23, 31)) or (birthday_month == 10 and birthday_day in range(1,23)):\n",
    "        return \"Libra\"\n",
    "    elif (birthday_month == 10 and birthday_day in range(1,24)) or (birthday_month == 11 and birthday_day in range(1,22)):\n",
    "        return \"Scorpio\"\n",
    "    elif (birthday_month == 11 and birthday_day in range(22, 32)) or (birthday_month == 12 and birthday_day in range(1,22)):\n",
    "        return \"Sagittarius\"\n",
    "    elif (birthday_month == 12 and birthday_day in range(23,32)) or (birthday_month == 1 and birthday_day in range(1,20)):\n",
    "        return \"Capricorn\"\n",
    "    elif (birthday_month == 1 and birthday_day in range(20,31)) or (birthday_month == 2 and birthday_day in range(1,18)):\n",
    "        return \"Aquarius\"\n",
    "    elif (birthday_month == 2 and birthday_day in range(19, 29)) or (birthday_month == 3 and birthday_day in range(1,21)):\n",
    "        return \"Pisces\"\n",
    "    else:\n",
    "        return \"Error\"\n",
    "zodiac_sign = sign()\n",
    "def choose_horoscope():\n",
    "    horoscope_chosen = random.choice(horoscope)\n",
    "    return print(f\"Your horoscope is as follows: {horoscope_chosen}, while your zodiac sign is {zodiac_sign}\")\n",
    "choose_horoscope()"
   ]
  },
  {
   "cell_type": "code",
   "execution_count": 15,
   "metadata": {},
   "outputs": [
    {
     "ename": "SyntaxError",
     "evalue": "invalid syntax (<ipython-input-15-95c000a01ebe>, line 1)",
     "output_type": "error",
     "traceback": [
      "\u001b[0;36m  File \u001b[0;32m\"<ipython-input-15-95c000a01ebe>\"\u001b[0;36m, line \u001b[0;32m1\u001b[0m\n\u001b[0;31m    Basic Math:\u001b[0m\n\u001b[0m             ^\u001b[0m\n\u001b[0;31mSyntaxError\u001b[0m\u001b[0;31m:\u001b[0m invalid syntax\n"
     ]
    }
   ],
   "source": [
    "Basic Math:\n",
    "Create a list of 1 - 10\n",
    "Add 2 to every number in the list the regular way\n",
    "Rewrite in list comprehensive way\n",
    "Write List of 1-10 where each item is squared by 3\n",
    "Write list of 1-10 where only items divisible 3 add 3 to it"
   ]
  },
  {
   "cell_type": "code",
   "execution_count": 13,
   "metadata": {},
   "outputs": [
    {
     "name": "stdout",
     "output_type": "stream",
     "text": [
      "Original List\n",
      "[1, 2, 3, 4, 5, 6, 7, 8, 9, 10]\n",
      "Modified list using for loop\n",
      "[3, 4, 5, 6, 7, 8, 9, 10, 11, 12]\n",
      "List created with list comprehension\n",
      "[5, 6, 7, 8, 9, 10, 11, 12, 13, 14]\n",
      "Cubed list with list comp\n",
      "[1, 8, 27, 64, 125, 216, 343, 512, 729, 1000]\n",
      "List comprehension divisible by three + 3\n",
      "[6, 9, 12]\n"
     ]
    }
   ],
   "source": [
    "nums = [1,2,3,4,5,6,7,8,9,10]\n",
    "print(\"Original List\")\n",
    "print(nums)\n",
    "x = 0\n",
    "for num in nums:\n",
    "    del nums[x]\n",
    "    new_num = num + 2\n",
    "    nums.insert(x, new_num)\n",
    "    x += 1\n",
    "print(\"Modified list using for loop\")\n",
    "print(nums)\n",
    "new_nums = [num + 2 for num in nums]\n",
    "print(\"List created with list comprehension\")\n",
    "print(new_nums)\n",
    "cubed_list = [num**3 for num in range(1,11)]\n",
    "print(\"Cubed list with list comp\")\n",
    "print(cubed_list)\n",
    "more_cubed = [num + 3 for num in range(1,11) if num % 3 == 0]\n",
    "print(\"List comprehension divisible by three + 3\")\n",
    "print(more_cubed)"
   ]
  },
  {
   "cell_type": "code",
   "execution_count": 56,
   "metadata": {},
   "outputs": [
    {
     "data": {
      "text/html": [
       "<img src=\"https://apod.nasa.gov/apod/image/9612/lunarsp_clem.gif\"/>"
      ],
      "text/plain": [
       "<IPython.core.display.Image object>"
      ]
     },
     "metadata": {},
     "output_type": "display_data"
    },
    {
     "name": "stdout",
     "output_type": "stream",
     "text": [
      "1996-12-04\n"
     ]
    },
    {
     "ename": "KeyboardInterrupt",
     "evalue": "",
     "output_type": "error",
     "traceback": [
      "\u001b[0;31m---------------------------------------------------------------------------\u001b[0m",
      "\u001b[0;31mKeyboardInterrupt\u001b[0m                         Traceback (most recent call last)",
      "\u001b[0;32m<ipython-input-56-eeb7c1e35995>\u001b[0m in \u001b[0;36m<module>\u001b[0;34m\u001b[0m\n\u001b[1;32m     16\u001b[0m     \u001b[0mend_date\u001b[0m \u001b[0;34m=\u001b[0m \u001b[0mstr\u001b[0m\u001b[0;34m(\u001b[0m\u001b[0mdate_1\u001b[0m \u001b[0;34m+\u001b[0m \u001b[0mdatetime\u001b[0m\u001b[0;34m.\u001b[0m\u001b[0mtimedelta\u001b[0m\u001b[0;34m(\u001b[0m\u001b[0mdays\u001b[0m\u001b[0;34m=\u001b[0m\u001b[0mi\u001b[0m\u001b[0;34m)\u001b[0m\u001b[0;34m)\u001b[0m\u001b[0;34m\u001b[0m\u001b[0;34m\u001b[0m\u001b[0m\n\u001b[1;32m     17\u001b[0m     \u001b[0mdate\u001b[0m \u001b[0;34m=\u001b[0m \u001b[0mend_date\u001b[0m\u001b[0;34m[\u001b[0m\u001b[0;36m0\u001b[0m\u001b[0;34m:\u001b[0m\u001b[0;36m10\u001b[0m\u001b[0;34m]\u001b[0m\u001b[0;34m\u001b[0m\u001b[0;34m\u001b[0m\u001b[0m\n\u001b[0;32m---> 18\u001b[0;31m     \u001b[0mtime\u001b[0m\u001b[0;34m.\u001b[0m\u001b[0msleep\u001b[0m\u001b[0;34m(\u001b[0m\u001b[0;36m2.0\u001b[0m\u001b[0;34m)\u001b[0m\u001b[0;34m\u001b[0m\u001b[0;34m\u001b[0m\u001b[0m\n\u001b[0m\u001b[1;32m     19\u001b[0m     \u001b[0mrequest\u001b[0m\u001b[0;34m(\u001b[0m\u001b[0mdate\u001b[0m\u001b[0;34m)\u001b[0m\u001b[0;34m\u001b[0m\u001b[0;34m\u001b[0m\u001b[0m\n\u001b[1;32m     20\u001b[0m     \u001b[0mprint\u001b[0m\u001b[0;34m(\u001b[0m\u001b[0mdate\u001b[0m\u001b[0;34m)\u001b[0m\u001b[0;34m\u001b[0m\u001b[0;34m\u001b[0m\u001b[0m\n",
      "\u001b[0;31mKeyboardInterrupt\u001b[0m: "
     ]
    }
   ],
   "source": [
    "import requests\n",
    "import time\n",
    "import datetime\n",
    "#GET Request\n",
    "api_key = '4LpykqoNETeZFCkk9JDsPDzuk3sT4f5BjQHox2wZ'\n",
    "\n",
    "def request(date):\n",
    "    r = requests.get(f'https://api.nasa.gov/planetary/apod?date={date}&api_key={api_key}')\n",
    "    url = r.json()[\"url\"]\n",
    "    from IPython.display import Image, clear_output\n",
    "    clear_output()\n",
    "    display(Image(url = url))\n",
    "start_date = \"1996-11-28\"\n",
    "date_1 = datetime.datetime.strptime(start_date, \"%Y-%m-%d\")\n",
    "for i in range(0,366,1):\n",
    "    end_date = str(date_1 + datetime.timedelta(days=i))\n",
    "    date = end_date[0:10]\n",
    "    time.sleep(2.0)\n",
    "    request(date)\n",
    "    print(date)"
   ]
  }
 ],
 "metadata": {
  "kernelspec": {
   "display_name": "Python 3",
   "language": "python",
   "name": "python3"
  },
  "language_info": {
   "codemirror_mode": {
    "name": "ipython",
    "version": 3
   },
   "file_extension": ".py",
   "mimetype": "text/x-python",
   "name": "python",
   "nbconvert_exporter": "python",
   "pygments_lexer": "ipython3",
   "version": "3.7.4"
  }
 },
 "nbformat": 4,
 "nbformat_minor": 2
}
