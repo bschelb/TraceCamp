{
 "cells": [
  {
   "cell_type": "code",
   "execution_count": null,
   "metadata": {},
   "outputs": [],
   "source": [
    "Create an horoscope list\n",
    "Create list of 3 horoscopes\n",
    "Set up user input asking for birthday\n",
    "Create function to return zodiac sign by number using if statements\n",
    "Pass zodiac sign to function that randomly picks horoscope\n",
    "Return zodiac sign along with horoscope\n",
    "Stretch Goals\n",
    "Stretch One: Add method to add and delete horoscopes\n",
    "Stretch Two: Add in checks for all the user input. If incorrect user input either give the option to reenter the input or end program\n",
    "Basic Math:\n",
    "Create a list of 1 - 10\n",
    "Add 2 to every number in the list the regular way\n",
    "Rewrite in list comprehensive way\n",
    "Write List of 1-10 where each item is squared by 3\n",
    "Write list of 1-10 where only items divisible 3 add 3 to it\n",
    "\n",
    "Stretch Goals\n",
    "\n",
    "Stretch One:\n",
    "Create list of where even or odd is printed depending on number 1-10\n",
    "Stretch Two:\n",
    "Create list of prime numbers through 1-25"
   ]
  },
  {
   "cell_type": "code",
   "execution_count": null,
   "metadata": {},
   "outputs": [],
   "source": [
    "horoscope = [\"Prepare for an unexpected trip\", \"Be careful around water the next 3 days\", \"Watch out for birds this week\"]\n",
    "birthday = input(\"What is your birthday? MM/DD\")\n",
    "def sign(birthday):\n",
    "    if birthday "
   ]
  }
 ],
 "metadata": {
  "kernelspec": {
   "display_name": "Python 3",
   "language": "python",
   "name": "python3"
  },
  "language_info": {
   "codemirror_mode": {
    "name": "ipython",
    "version": 3
   },
   "file_extension": ".py",
   "mimetype": "text/x-python",
   "name": "python",
   "nbconvert_exporter": "python",
   "pygments_lexer": "ipython3",
   "version": "3.7.4"
  }
 },
 "nbformat": 4,
 "nbformat_minor": 2
}
